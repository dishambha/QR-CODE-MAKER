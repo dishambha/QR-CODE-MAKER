{
  "nbformat": 4,
  "nbformat_minor": 0,
  "metadata": {
    "colab": {
      "provenance": [],
      "authorship_tag": "ABX9TyOQaOR9rpfT3Q0vOAz5cdyR",
      "include_colab_link": true
    },
    "kernelspec": {
      "name": "python3",
      "display_name": "Python 3"
    },
    "language_info": {
      "name": "python"
    }
  },
  "cells": [
    {
      "cell_type": "markdown",
      "metadata": {
        "id": "view-in-github",
        "colab_type": "text"
      },
      "source": [
        "<a href=\"https://colab.research.google.com/github/dishambha/QR-CODE-MAKER/blob/main/QR_CODE_MAKER_.ipynb\" target=\"_parent\"><img src=\"https://colab.research.google.com/assets/colab-badge.svg\" alt=\"Open In Colab\"/></a>"
      ]
    },
    {
      "cell_type": "code",
      "source": [
        "pip install qrcode"
      ],
      "metadata": {
        "colab": {
          "base_uri": "https://localhost:8080/"
        },
        "id": "oKn1XCyGBBTI",
        "outputId": "aefb00cb-d6b6-4e58-9c39-5b2aceb4d166"
      },
      "execution_count": 23,
      "outputs": [
        {
          "output_type": "stream",
          "name": "stdout",
          "text": [
            "Requirement already satisfied: qrcode in /usr/local/lib/python3.11/dist-packages (8.2)\n"
          ]
        }
      ]
    },
    {
      "cell_type": "code",
      "execution_count": 24,
      "metadata": {
        "id": "dwC_jgHlAzqR"
      },
      "outputs": [],
      "source": [
        "import qrcode"
      ]
    },
    {
      "cell_type": "code",
      "source": [
        "data = \"https://www.instagram.com/dishambha.dev/?hl=en\""
      ],
      "metadata": {
        "id": "OolpPKD7BL8K"
      },
      "execution_count": 25,
      "outputs": []
    },
    {
      "cell_type": "code",
      "source": [
        "qr = qrcode.QRCode(\n",
        "    version=1,\n",
        "    error_correction=qrcode.constants.ERROR_CORRECT_L,\n",
        "    box_size=10,\n",
        "    border=4,\n",
        ")"
      ],
      "metadata": {
        "id": "YyqZQHfYBSom"
      },
      "execution_count": 26,
      "outputs": []
    },
    {
      "cell_type": "code",
      "source": [
        "qr.add_data(data)\n",
        "qr.make(fit=True)"
      ],
      "metadata": {
        "id": "nKzjduzRBwqM"
      },
      "execution_count": 27,
      "outputs": []
    },
    {
      "cell_type": "code",
      "source": [
        "img = qr.make_image(fill_color='black', back_color='white')"
      ],
      "metadata": {
        "id": "v2MIAD_vB8eq"
      },
      "execution_count": 28,
      "outputs": []
    },
    {
      "cell_type": "code",
      "source": [
        "img.save(\"qrcode.png\")"
      ],
      "metadata": {
        "id": "e2qPoMRuCLDV"
      },
      "execution_count": 29,
      "outputs": []
    }
  ]
}